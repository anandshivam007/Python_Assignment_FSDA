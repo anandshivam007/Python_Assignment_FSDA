{
 "cells": [
  {
   "cell_type": "markdown",
   "id": "08c66ea5",
   "metadata": {},
   "source": [
    "## Programming Assignment_2\n",
    "-------------"
   ]
  },
  {
   "cell_type": "markdown",
   "id": "4e50cf42",
   "metadata": {},
   "source": [
    "### 1. Write a Python program to convert kilometers to miles?\n"
   ]
  },
  {
   "cell_type": "code",
   "execution_count": 2,
   "id": "516033d6",
   "metadata": {},
   "outputs": [
    {
     "name": "stdout",
     "output_type": "stream",
     "text": [
      "Enter the distance in Kilometers  45\n",
      "Distance in miles is 72.405\n"
     ]
    }
   ],
   "source": [
    "distance_in_km = float(input(\"Enter the distance in Kilometers  \"))\n",
    "distance_in_miles = 1.609 * distance_in_km\n",
    "\n",
    "print(\"Distance in miles is\", distance_in_miles)"
   ]
  },
  {
   "cell_type": "markdown",
   "id": "0df4e6bf",
   "metadata": {},
   "source": [
    "### 2.Write a Python program to convert Celsius to Fahrenheit?"
   ]
  },
  {
   "cell_type": "code",
   "execution_count": 4,
   "id": "75a83107",
   "metadata": {},
   "outputs": [
    {
     "name": "stdout",
     "output_type": "stream",
     "text": [
      "Enter the temperature value in Celsius 0\n",
      "Temperature value in Fahrenheit is  32.0\n"
     ]
    }
   ],
   "source": [
    "Celsius = float(input(\"Enter the temperature value in Celsius \"))\n",
    "Fahrenheit = (Celsius * 9/5) + 32\n",
    "print(\"Temperature value in Fahrenheit is \" ,Fahrenheit )"
   ]
  },
  {
   "cell_type": "markdown",
   "id": "46129b8e",
   "metadata": {},
   "source": [
    "### 3. Write a Python program to display calendar?\n"
   ]
  },
  {
   "cell_type": "code",
   "execution_count": 10,
   "id": "81a4d5e4",
   "metadata": {},
   "outputs": [
    {
     "name": "stdout",
     "output_type": "stream",
     "text": [
      "Enter year: 2022\n",
      "Enter month: 09\n",
      "   September 2022\n",
      "Mo Tu We Th Fr Sa Su\n",
      "          1  2  3  4\n",
      " 5  6  7  8  9 10 11\n",
      "12 13 14 15 16 17 18\n",
      "19 20 21 22 23 24 25\n",
      "26 27 28 29 30\n",
      "\n"
     ]
    }
   ],
   "source": [
    "import calendar\n",
    "yy = int(input(\"Enter year: \"))\n",
    "mm = int(input(\"Enter month: \"))\n",
    "print( calendar.month(yy, mm))"
   ]
  },
  {
   "cell_type": "markdown",
   "id": "db2bf0f7",
   "metadata": {},
   "source": [
    "### 4. Write a Python program to solve quadratic equation?"
   ]
  },
  {
   "cell_type": "code",
   "execution_count": 11,
   "id": "efa32bcd",
   "metadata": {},
   "outputs": [
    {
     "name": "stdout",
     "output_type": "stream",
     "text": [
      "let us solve the equation ax^2+bx+c=o\n",
      "a= 2\n",
      "b= 3\n",
      "c= 4\n",
      "The equation has no real solution\n"
     ]
    }
   ],
   "source": [
    "import math \n",
    " \n",
    "print('let us solve the equation ax^2+bx+c=o') \n",
    " \n",
    "a = int(input('a= ')) \n",
    "b = int(input('b= ')) \n",
    "c = int(input('c= ')) \n",
    " \n",
    "d = b**2-4*a*c \n",
    " \n",
    "if d < 0: \n",
    "   print('The equation has no real solution') \n",
    "elif d == 0: \n",
    "   x = (-b)/(2*a) \n",
    "   print('This equation has one solution: ',x) \n",
    "else: \n",
    "   x1 = (-b+math.sqrt(d))/(2*a) \n",
    "   x2 = (-b-math.sqrt(d))/(2*a) \n",
    "   print('This equation has two solutions: ',x1, 'or', x2)"
   ]
  },
  {
   "cell_type": "markdown",
   "id": "f70f74c9",
   "metadata": {},
   "source": [
    "### 5. Write a Python program to swap two variables without temp variable?"
   ]
  },
  {
   "cell_type": "code",
   "execution_count": 13,
   "id": "c6fd5161",
   "metadata": {},
   "outputs": [
    {
     "name": "stdout",
     "output_type": "stream",
     "text": [
      "Enter the value of 1st variable 3\n",
      "Enter the value of 2nd variable 9\n",
      "Before swapping: \n",
      "Value of x :  3  and y :  9\n",
      "After swapping: \n",
      "Value of x :  9  and y :  3\n"
     ]
    }
   ],
   "source": [
    "x = int(input (\"Enter the value of 1st variable \"))\n",
    "y = int(input (\"Enter the value of 2nd variable \"))\n",
    " \n",
    "print (\"Before swapping: \")\n",
    "print(\"Value of x : \", x, \" and y : \", y)\n",
    "\n",
    "x, y = y, x\n",
    " \n",
    "print (\"After swapping: \")\n",
    "print(\"Value of x : \", x, \" and y : \", y)"
   ]
  },
  {
   "cell_type": "code",
   "execution_count": null,
   "id": "e01b0797",
   "metadata": {},
   "outputs": [],
   "source": []
  }
 ],
 "metadata": {
  "kernelspec": {
   "display_name": "Python 3 (ipykernel)",
   "language": "python",
   "name": "python3"
  },
  "language_info": {
   "codemirror_mode": {
    "name": "ipython",
    "version": 3
   },
   "file_extension": ".py",
   "mimetype": "text/x-python",
   "name": "python",
   "nbconvert_exporter": "python",
   "pygments_lexer": "ipython3",
   "version": "3.9.7"
  }
 },
 "nbformat": 4,
 "nbformat_minor": 5
}
